{
 "cells": [
  {
   "cell_type": "code",
   "execution_count": null,
   "metadata": {},
   "outputs": [],
   "source": [
    "# you may need to `pip install --upgrade transformers`\n",
    "from transformers import AutoModel, AutoTokenizer, AutoModelForCausalLM\n",
    "import torch\n"
   ]
  },
  {
   "cell_type": "code",
   "execution_count": null,
   "metadata": {},
   "outputs": [],
   "source": [
    "# this block will downlaod the model from huggingface.co and cache locally\n",
    "# run this block once to download the model\n",
    "\n",
    "# to download different models, change the model_name after AI-Sweden-Models/{MODEL_NAME}\n",
    "# you can find the other models here: https://huggingface.co/AI-Sweden-Models/gpt-sw3-126m\n",
    "model_name = 'AI-Sweden-Models/gpt-sw3-126m-instruct'\n",
    "\n",
    "# download the model and tokenizer from huggingface.co and cache locally\n",
    "tokenizer = AutoTokenizer.from_pretrained(model_name)\n",
    "model = AutoModel.from_pretrained(model_name)\n",
    "\n",
    "# save the model and tokenizer locally\n",
    "MODEL_PATH = \"gptsw3model126m\"\n",
    "model.save_pretrained(MODEL_PATH)\n",
    "tokenizer.save_pretrained(MODEL_PATH)\n"
   ]
  },
  {
   "cell_type": "code",
   "execution_count": null,
   "metadata": {},
   "outputs": [],
   "source": [
    "# load the model and tokenizer from local cache\n",
    "\n",
    "model = AutoModelForCausalLM.from_pretrained(MODEL_PATH)\n",
    "tokenizer = AutoTokenizer.from_pretrained(MODEL_PATH)\n",
    "\n",
    "model.eval()\n",
    "\n",
    "device = \"cuda:0\" if torch.cuda.is_available() else \"cpu\"\n",
    "model.to(device)\n"
   ]
  },
  {
   "cell_type": "code",
   "execution_count": null,
   "metadata": {},
   "outputs": [],
   "source": [
    "\n",
    "promptInput = \"Träd är fina för att\"\n",
    "\n",
    "# this will be different for each model\n",
    "prompt = f\"\"\"\n",
    "<|endoftext|><s>\n",
    "User:\n",
    "{promptInput}\n",
    "\n",
    "<s>\n",
    "Bot:\n",
    "\"\"\".strip()\n",
    "\n",
    "input_ids = tokenizer(prompt, return_tensors=\"pt\")[\"input_ids\"].to(device)\n",
    "\n",
    "generated_token_ids = model.generate(\n",
    "    inputs=input_ids,\n",
    "    max_new_tokens=100,\n",
    "    do_sample=True,\n",
    "    temperature=0.6,\n",
    "    top_p=1,\n",
    ")[0]\n",
    "\n",
    "generated_text = tokenizer.decode(generated_token_ids)    \n",
    "\n",
    "# code to extract text after \"Bot:\"\n",
    "bot_text_start = generated_text.find(\"Bot:\")\n",
    "if bot_text_start != -1:\n",
    "    bot_text = generated_text[bot_text_start + len(\"Bot:\"):].strip()\n",
    "    # stop after <s>\n",
    "    bot_text = bot_text.split(\"<s>\")[0].strip()\n",
    "    print(bot_text)\n",
    "else:\n",
    "    print(\"Bot response not found in the generated text.\")\n"
   ]
  },
  {
   "cell_type": "code",
   "execution_count": null,
   "metadata": {},
   "outputs": [],
   "source": []
  }
 ],
 "metadata": {
  "kernelspec": {
   "display_name": "Python 3",
   "language": "python",
   "name": "python3"
  },
  "language_info": {
   "codemirror_mode": {
    "name": "ipython",
    "version": 3
   },
   "file_extension": ".py",
   "mimetype": "text/x-python",
   "name": "python",
   "nbconvert_exporter": "python",
   "pygments_lexer": "ipython3",
   "version": "3.11.5"
  }
 },
 "nbformat": 4,
 "nbformat_minor": 2
}
